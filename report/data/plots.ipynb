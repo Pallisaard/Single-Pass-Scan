{
 "cells": [
  {
   "cell_type": "code",
   "execution_count": null,
   "metadata": {},
   "outputs": [],
   "source": [
    "import numpy as np\n",
    "import pandas as pd\n",
    "from matplotlib import pyplot as plt\n",
    "from matplotlib import gridspec\n",
    "\n",
    "import plot_utils"
   ]
  },
  {
   "cell_type": "markdown",
   "metadata": {},
   "source": [
    "## Plots"
   ]
  },
  {
   "cell_type": "code",
   "execution_count": null,
   "metadata": {},
   "outputs": [],
   "source": [
    "# Now plot the data\n",
    "filenames, columns, labels = plot_utils.get_plot_info()\n",
    "print(filenames)"
   ]
  },
  {
   "cell_type": "code",
   "execution_count": null,
   "metadata": {},
   "outputs": [],
   "source": [
    "df1 = plot_utils.load_experiment_data(filenames[0])\n",
    "plot_utils.plot_experiment_data(df1, columns, labels,\n",
    "                                title=\"Throughput vs Array size, B=256, Q=30\",\n",
    "                                filename=\"../plots/throughput_vs_array_size_B256_Q30.png\")"
   ]
  },
  {
   "cell_type": "code",
   "execution_count": null,
   "metadata": {},
   "outputs": [],
   "source": [
    "df2 = plot_utils.load_experiment_data(filenames[1])\n",
    "plot_utils.plot_experiment_data(df2, columns, labels,\n",
    "                                title=\"Throughput vs Array size, B=256, Q=10\",\n",
    "                                filename=\"../plots/throughput_vs_array_size_B256_Q10.png\")"
   ]
  },
  {
   "cell_type": "code",
   "execution_count": null,
   "metadata": {},
   "outputs": [],
   "source": [
    "df3 = plot_utils.load_experiment_data(filenames[2])\n",
    "plot_utils.plot_experiment_data(df3, columns, labels,\n",
    "                                title=\"Throughput vs Array size, B=1024, Q=10\",\n",
    "                                filename=\"../plots/throughput_vs_array_size_B1024_Q10.png\")"
   ]
  },
  {
   "cell_type": "markdown",
   "metadata": {},
   "source": [
    "## Table of difference between methdos and naive memcpy"
   ]
  },
  {
   "cell_type": "code",
   "execution_count": null,
   "metadata": {},
   "outputs": [],
   "source": [
    "cs = []\n",
    "for df in [df1, df2, df3]:\n",
    "    c = df.loc[20, [\"naiveMemcpy\", \"AuxBlock\", \"SeqLookback\", \"ParLookback\"]]\n",
    "    cs.append(c)"
   ]
  },
  {
   "cell_type": "code",
   "execution_count": null,
   "metadata": {},
   "outputs": [],
   "source": [
    "# Join the series in cs into a dataframe\n",
    "df = pd.concat(cs, axis=1)\n",
    "df.columns = [\"B=256, Q=30\", \"B=256, Q=10\", \"B=1024, Q=10\"]\n",
    "divider = df.loc[\"naiveMemcpy\", :].values\n",
    "df = df / divider\n",
    "print(df.to_latex(float_format=\"%.2fx\", caption=\"Throughput performance vs naiveMemcpy\", label=\"tab:throughput_vs_naiveMemcpy\"))"
   ]
  },
  {
   "cell_type": "markdown",
   "metadata": {},
   "source": [
    "## Heatmaps"
   ]
  },
  {
   "cell_type": "code",
   "execution_count": null,
   "metadata": {},
   "outputs": [],
   "source": [
    "filenames = plot_utils.get_heatmap_filenames()\n",
    "data = plot_utils.load_heatmap_data(filenames, skip_every_second_n=True)\n",
    "bs, qs, ns = plot_utils.get_BQN_values(skip_every_second_n=True)"
   ]
  },
  {
   "cell_type": "code",
   "execution_count": null,
   "metadata": {},
   "outputs": [],
   "source": [
    "max_val = data.max()\n",
    "# Find indices of max value\n",
    "max_idx = np.where(data == max_val)\n",
    "max_idx = [x[0] for x in max_idx]\n",
    "max_bqn = (bs[max_idx[0]], qs[max_idx[1]], ns[max_idx[2]])\n",
    "print(\"Max value: {} at B={}, Q={}, N={}\".format(max_val, *max_bqn))"
   ]
  },
  {
   "cell_type": "code",
   "execution_count": null,
   "metadata": {},
   "outputs": [],
   "source": [
    "plot_utils.plot_heatmap(data, (\"B\", \"Q\"), N=30, bqn_values=(bs, qs, ns),\n",
    "                        title=\"Heatmap for N=2^27\",\n",
    "                        clim=(0, 1133.46),\n",
    "                        filename=\"../plots/heatmap_BvQ_N=28.png\",\n",
    "                        rotation=45)"
   ]
  },
  {
   "cell_type": "code",
   "execution_count": null,
   "metadata": {},
   "outputs": [],
   "source": [
    "plot_utils.plot_heatmap(data, (\"B\", \"N\"), Q=30, bqn_values=(bs, qs, ns),\n",
    "                        title=\"Heatmap for Q=30\",\n",
    "                        clim=(0, 1133.46),\n",
    "                        filename=\"../plots/heatmap_BvN_Q=30.png\",\n",
    "                        rotation=45)"
   ]
  },
  {
   "cell_type": "code",
   "execution_count": null,
   "metadata": {},
   "outputs": [],
   "source": [
    "plot_utils.plot_heatmap(data, (\"Q\", \"N\"), B=256, bqn_values=(bs, qs, ns),\n",
    "                        title=\"Heatmap for B=256\",\n",
    "                        clim=(0, 1133.46),\n",
    "                        filename=\"../plots/heatmap_QvN_B=256.png\",\n",
    "                        rotation=45,\n",
    "                        colorbar=True)"
   ]
  }
 ],
 "metadata": {
  "kernelspec": {
   "display_name": "pmph",
   "language": "python",
   "name": "python3"
  },
  "language_info": {
   "codemirror_mode": {
    "name": "ipython",
    "version": 3
   },
   "file_extension": ".py",
   "mimetype": "text/x-python",
   "name": "python",
   "nbconvert_exporter": "python",
   "pygments_lexer": "ipython3",
   "version": "3.12.0"
  }
 },
 "nbformat": 4,
 "nbformat_minor": 2
}
