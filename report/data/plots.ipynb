{
 "cells": [
  {
   "cell_type": "code",
   "execution_count": null,
   "metadata": {},
   "outputs": [],
   "source": [
    "import numpy as np\n",
    "import pandas as pd\n",
    "from matplotlib import pyplot as plt"
   ]
  },
  {
   "cell_type": "code",
   "execution_count": null,
   "metadata": {},
   "outputs": [],
   "source": [
    "# load a csv from a file to a dataframe\n",
    "def load_experiment_data(filename):\n",
    "    df = pd.read_csv(filename)\n",
    "    return df"
   ]
  },
  {
   "cell_type": "code",
   "execution_count": null,
   "metadata": {},
   "outputs": [],
   "source": [
    "# The data has the following columns:\n",
    "#  N (2^),naiveMemcpy,registerMemcpy,glbShrMemcpy,scanIncAddI32,singlePassScanAuxBlock,singlePassScanLookback\n",
    "# \n",
    "# The first column is the size of the array used in \n",
    "# our computations. All subsequent columns are the\n",
    "# experiments measured in GB/s.\n",
    "# Create a plot of the data where the x-axis is the\n",
    "# size of the array and the y-axis is the GB/s.\n",
    "# The x axis should be labeled \"Array size (2^n)\" and\n",
    "# have tics between 10 and 30. The y axis should be \n",
    "# labeled \"GB/s\" and should be between 0 and 1500. \n",
    "# The plot should have a legend and a grid.\n",
    "\n",
    "def plot_experiment_data(df):\n",
    "    fig, ax = plt.subplots()\n",
    "    ax.plot(df['N (2^)'], df['naiveMemcpy'], label='naiveMemcpy')\n",
    "    ax.plot(df['N (2^)'], df['registerMemcpy'], label='registerMemcpy')\n",
    "    ax.plot(df['N (2^)'], df['glbShrMemcpy'], label='glbShrMemcpy')\n",
    "    ax.plot(df['N (2^)'], df['scanIncAddI32'], label='scanIncAddI32')\n",
    "    ax.plot(df['N (2^)'], df['singlePassScanAuxBlock'], label='singlePassScanAuxBlock')\n",
    "    ax.plot(df['N (2^)'], df['singlePassScanLookback'], label='singlePassScanLookback')\n",
    "    ax.set(xlabel='Array size (2^n)', ylabel='GB/s',\n",
    "           title='GPU Memory Bandwidth')\n",
    "    ax.grid()\n",
    "    ax.set_xlim(10, 30)\n",
    "    ax.set_ylim(0, 1500)\n",
    "    ax.legend()\n",
    "    plt.show()"
   ]
  },
  {
   "cell_type": "code",
   "execution_count": null,
   "metadata": {},
   "outputs": [],
   "source": [
    "# Now plot the data\n",
    "df = load_experiment_data('gpu_memory_bandwidth.csv')\n",
    "plot_experiment_data(df)"
   ]
  }
 ],
 "metadata": {
  "language_info": {
   "name": "python"
  }
 },
 "nbformat": 4,
 "nbformat_minor": 2
}
